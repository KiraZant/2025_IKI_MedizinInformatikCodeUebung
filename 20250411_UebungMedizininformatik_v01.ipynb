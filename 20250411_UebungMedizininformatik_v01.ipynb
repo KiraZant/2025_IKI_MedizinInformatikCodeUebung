{
 "cells": [
  {
   "metadata": {},
   "cell_type": "markdown",
   "source": [
    "# Notebook für die Übung Medizininformatik\n",
    "\n",
    "Dieses Notebook gibt erste Einblicke in die Arbeit mit Daten und Machine Learning. Es wird NICHT erwartet,dass Sie den Code vollständig verstehen, geschweige denn reproduzieren können. Stattdessen sollen Sie einen ersten Eindruck bekommen, wie Datenverarbeitung und Machine Learning in Python funktioniert.\n",
    "\n",
    "### AUFGABE:\n",
    "Führen Sie den Code Zeile für Zeile aus in dem Sie die Zeile anklicken und Umstelltaste + Enter oder den grünen Pfeil oben drücken. Eine bereits ausgeführte Zeile kann den Datensatz verändern und in darauffolgenden Zeilen zu Fehlern führen. Sollte dies bei Ihnen vorkommen, können Sie über „Restart Kernel“ neu starten. Allerdings muss aufgrund diese Abhängigkeiten dann von der ersten Zeile aus alles wieder ausgeführt werden. Sie finden in diesem Notebook Fragen und gelb markierte ToDos, die Sie bitte bearbeiten.\n",
    "Falls nichts mehr geht, einfach das Notebook schließen und über den Link neu öffnen. Dann sind allerdings alle Änderungen verloren.\n",
    "\n",
    "### HINWEIS:\n",
    "Wir geben einige Informationen zum medizinischen Kontext dieser Aufgabe, allerdings ist dies nicht der Fokus dieser Veranstaltung (oder von uns Lehrenden). Außerdem ist heute nur sehr begrenzt Zeit, weshalb wir Sie bitten, sich hier nicht zu lange mit den medizinischen Aspekten dieses Use Cases aufzuhalten, sondern sich auf die technischen Details zu konzentrieren.\n"
   ],
   "id": "ab25c699e1d035dc"
  },
  {
   "metadata": {
    "ExecuteTime": {
     "end_time": "2025-04-30T07:46:08.315323Z",
     "start_time": "2025-04-30T07:46:08.313215Z"
    }
   },
   "cell_type": "code",
   "source": "# DAS ist eine Code Zeile, die ausgeführt werden kann. Während es ausführt sehen Sie eine kleine Uhr, wenn es geklappt hat, sehen sie einen grünen Haken unten links von der Zeile. Falls nicht, gibt es einen Errorcode.",
   "id": "613e8e774ddba43c",
   "outputs": [],
   "execution_count": 19
  },
  {
   "metadata": {},
   "cell_type": "markdown",
   "source": "Das ist eine Text Zeile, die nur gelesen werden (sie können reinklicken und etwas verändern, das bringt Ihnen aber nichts).",
   "id": "999205f8ce5d086d"
  },
  {
   "metadata": {},
   "cell_type": "markdown",
   "source": [
    "## Schritt 0: Hintergrund & Zieldefinition\n",
    "\n",
    "Dieser Datensatz stammt aus dem Paper:\n",
    "Davide Chicco, Giuseppe Jurman: Machine learning can predict survival of patients with heart failure from serum creatinine and ejection fraction alone. BMC Medical Informatics and Decision Making 20, 16 (2020).\n",
    "\n",
    "Herz-Kreislauf-Erkrankungen sind weltweit die Todesursache Nr. 1. Menschen, die an einer Herz-Kreislauf-Erkrankung leiden oder ein hohes kardiovaskuläres Risiko aufweisen, müssen frühzeitig erkannt und behandelt werden. Unser Datensatz enthält 274 Patient:innen (jeweils eine Reihe) mit fünf Features (Spalten) aus dem Faisalabad Institute of Cardiology am Allied Hospital in Faisalabad (Pakistan) von April bis Dezember 2015.\n",
    "\n",
    "Features sind dabei das Machine Learning Äquivalent zu dem was man in der Statistik als Variablen bezeichnet.\n",
    "\n",
    "Die letzte Spalte (DEATH_EVENT) zeigt an, ob die Person bis zum Follow-up zwischen 4 und 285 Tagen (Durchschnitt 130 Tage) nach Aufnahme der Werte verstorben ist. Des Weiteren haben wir die folgenden Informationen:\n",
    "\n",
    "### Features:\n",
    "- Sex: 0 ist Mann, 1 ist Frau\n",
    "- Age: Alter in Jahren\n",
    "- Ejection fraction: Auswurffraktion in %\n",
    "- Platelets: Blutplättchen in Kiloplatelets/mL\n",
    "- Serum creatinine: Kreatinwert in mg/dL\n",
    "\n",
    "Ziel ist es, anhand der vorhandenen Features vorherzusagen, welche Patient:innen vor dem Follow-up versterben (DEATH_EVENT)."
   ],
   "id": "24a7db0dd3860590"
  },
  {
   "metadata": {},
   "cell_type": "markdown",
   "source": [
    "## Schritt 1: Daten (Ein-)Sammeln\n",
    "\n",
    "Der folgende Code läd einen ausgewählten Teil dieses Datensatzes in unsere Entwicklungsumgebung."
   ],
   "id": "a9fa517cc2a1100b"
  },
  {
   "metadata": {
    "ExecuteTime": {
     "end_time": "2025-05-06T07:18:26.330367Z",
     "start_time": "2025-05-06T07:18:25.635018Z"
    }
   },
   "cell_type": "code",
   "source": [
    "# Diese Zeile importiert sogenannte Packages, die es uns erlauben, auf von anderen geschriebenen Code zuzugreifen.\n",
    "import pandas as pd\n",
    "import numpy as np\n",
    "import matplotlib.pyplot as plt"
   ],
   "id": "initial_id",
   "outputs": [],
   "execution_count": 2
  },
  {
   "metadata": {
    "ExecuteTime": {
     "end_time": "2025-05-06T07:18:27.584003Z",
     "start_time": "2025-05-06T07:18:27.568741Z"
    }
   },
   "cell_type": "code",
   "source": [
    "# Datensatz laden\n",
    "# Wir benennen den Datensatz mit \"df\" (steht für DataFrame) und nutzen aus dem Pandas (pd) Package die \"read_csv\" Methode um die csv Datei einzulesen.\n",
    "# Jetzt können wir mit \"df\" auf unseren Datensatz zugreifen\n",
    "df = pd.read_csv(\"heart_failure_clinical_records_dataset.csv\")\n",
    "\n",
    "# durch .head() werden die ersten fünf Patien:innen angezeigt.\n",
    "df.head()"
   ],
   "id": "329f2300e4b68cc5",
   "outputs": [
    {
     "data": {
      "text/plain": [
       "    age  ejection_fraction  platelets  serum_creatinine  sex  DEATH_EVENT\n",
       "0  75.0                 20  265000.00               1.9    1            1\n",
       "1  55.0                 38  263358.03               1.1    1            1\n",
       "2  65.0                 20  162000.00               1.3    1            1\n",
       "3  50.0                 20  210000.00               1.9    1            1\n",
       "4  65.0                 20  327000.00               2.7    0            1"
      ],
      "text/html": [
       "<div>\n",
       "<style scoped>\n",
       "    .dataframe tbody tr th:only-of-type {\n",
       "        vertical-align: middle;\n",
       "    }\n",
       "\n",
       "    .dataframe tbody tr th {\n",
       "        vertical-align: top;\n",
       "    }\n",
       "\n",
       "    .dataframe thead th {\n",
       "        text-align: right;\n",
       "    }\n",
       "</style>\n",
       "<table border=\"1\" class=\"dataframe\">\n",
       "  <thead>\n",
       "    <tr style=\"text-align: right;\">\n",
       "      <th></th>\n",
       "      <th>age</th>\n",
       "      <th>ejection_fraction</th>\n",
       "      <th>platelets</th>\n",
       "      <th>serum_creatinine</th>\n",
       "      <th>sex</th>\n",
       "      <th>DEATH_EVENT</th>\n",
       "    </tr>\n",
       "  </thead>\n",
       "  <tbody>\n",
       "    <tr>\n",
       "      <th>0</th>\n",
       "      <td>75.0</td>\n",
       "      <td>20</td>\n",
       "      <td>265000.00</td>\n",
       "      <td>1.9</td>\n",
       "      <td>1</td>\n",
       "      <td>1</td>\n",
       "    </tr>\n",
       "    <tr>\n",
       "      <th>1</th>\n",
       "      <td>55.0</td>\n",
       "      <td>38</td>\n",
       "      <td>263358.03</td>\n",
       "      <td>1.1</td>\n",
       "      <td>1</td>\n",
       "      <td>1</td>\n",
       "    </tr>\n",
       "    <tr>\n",
       "      <th>2</th>\n",
       "      <td>65.0</td>\n",
       "      <td>20</td>\n",
       "      <td>162000.00</td>\n",
       "      <td>1.3</td>\n",
       "      <td>1</td>\n",
       "      <td>1</td>\n",
       "    </tr>\n",
       "    <tr>\n",
       "      <th>3</th>\n",
       "      <td>50.0</td>\n",
       "      <td>20</td>\n",
       "      <td>210000.00</td>\n",
       "      <td>1.9</td>\n",
       "      <td>1</td>\n",
       "      <td>1</td>\n",
       "    </tr>\n",
       "    <tr>\n",
       "      <th>4</th>\n",
       "      <td>65.0</td>\n",
       "      <td>20</td>\n",
       "      <td>327000.00</td>\n",
       "      <td>2.7</td>\n",
       "      <td>0</td>\n",
       "      <td>1</td>\n",
       "    </tr>\n",
       "  </tbody>\n",
       "</table>\n",
       "</div>"
      ]
     },
     "execution_count": 3,
     "metadata": {},
     "output_type": "execute_result"
    }
   ],
   "execution_count": 3
  },
  {
   "metadata": {},
   "cell_type": "markdown",
   "source": [
    "## Schritt 2: Daten Exploration\n",
    "Welche Visualiserung könnte spannend sein?"
   ],
   "id": "9d8a6cdac1352a67"
  },
  {
   "metadata": {
    "ExecuteTime": {
     "end_time": "2025-05-06T07:18:31.354819Z",
     "start_time": "2025-05-06T07:18:31.284934Z"
    }
   },
   "cell_type": "code",
   "source": [
    "# Todo: Schauen Sie sich die Histogramme an und ersetzen Sie den Spaltennamen unten in dieser Zeile, da wo column = stejt durch andere numerische Variablen, für die ein Histogramm spannend sein könnte.\n",
    "# Hinweis: Bei Python müssen Texte immer in \"\" angegeben werden. Ohne \"\" handelt es sich um den Namen einer Variablen oder Ähnliches. Schreiben Sie die Antwort also zum Beispiel als \"age\" und nicht age.\n",
    "\n",
    "column = \"platelets\"\n",
    "# Histogram Einzelne Variable\n",
    "df.hist(column)\n",
    "plt.show()"
   ],
   "id": "17932d4da6b369da",
   "outputs": [
    {
     "data": {
      "text/plain": [
       "<Figure size 640x480 with 1 Axes>"
      ],
      "image/png": "[encoded data removed]"
     },
     "metadata": {},
     "output_type": "display_data"
    }
   ],
   "execution_count": 4
  },
  {
   "metadata": {},
   "cell_type": "markdown",
   "source": [
    "## Schritt 3: Data Cleaning\n",
    "\n",
    "Der Maximalwert in der Spalte „age“ beträgt 1985, aber ein Patient im Alter von 1985 Jahren ist natürlich eher unrealistisch. Ersetzen Sie die Zahl hinter „korrekter_wert =“ mit dem besten Vorschlag, wie alt dieser Patient sein könnte."
   ],
   "id": "99519d99261ec7c8"
  },
  {
   "metadata": {
    "ExecuteTime": {
     "end_time": "2025-05-06T07:18:34.791584Z",
     "start_time": "2025-05-06T07:18:34.787695Z"
    }
   },
   "cell_type": "code",
   "source": [
    "# Wir lassen uns den maximalen Wert in der Spalte \"age\" anzeigen (Side note: .min(), .mean() oder .median() funktioniert genauso und .describe() gibt eine deskriptive Übersicht.\n",
    "print(df['age'].max())"
   ],
   "id": "aa04267b99b8460f",
   "outputs": [
    {
     "name": "stdout",
     "output_type": "stream",
     "text": [
      "1985.0\n"
     ]
    }
   ],
   "execution_count": 5
  },
  {
   "metadata": {
    "ExecuteTime": {
     "end_time": "2025-05-06T07:18:59.205929Z",
     "start_time": "2025-05-06T07:18:59.202419Z"
    }
   },
   "cell_type": "code",
   "source": [
    "#Todo: Ersetzen Sie in disere Zeile die 1985 für die beste Idee, welches Alter dieser Patient hat.\n",
    "korrekter_wert = 1985\n",
    "\n",
    "# Wenn Sie den ersetzt haben, läuft dieser Code durch und korrigiert das Problem.\n",
    "# Diese Code schaut, wo in unserem DataFrame (df) in der Spalte \"age\" der Wert 1985 ist\n",
    "# Für Felder mit dem Wert 1985 ersetzt er diesen Wert mit dem, was wir in korrekter_wert angeben.\n",
    "# Für alle anderen Werte behält er was vorher in der Spalt \"age\" stand.\n",
    "\n",
    "df.age = np.where(df.age==1985, korrekter_wert, df.age)\n",
    "\n",
    "# Test: Hier sollte jetzt ein neuer maximaler Wert für Alter angezeigt werden.\n",
    "print(df.age.max())"
   ],
   "id": "e3be2134b9e6a117",
   "outputs": [
    {
     "name": "stdout",
     "output_type": "stream",
     "text": [
      "1985.0\n"
     ]
    }
   ],
   "execution_count": 7
  },
  {
   "metadata": {
    "ExecuteTime": {
     "end_time": "2025-05-06T07:19:00.527773Z",
     "start_time": "2025-05-06T07:19:00.525409Z"
    }
   },
   "cell_type": "code",
   "source": [
    "# Wenn Sie ihren Wert sehen wollen, können Sie ihn so abrufen.\n",
    "print(korrekter_wert)"
   ],
   "id": "c8f57e9bfe203b85",
   "outputs": [
    {
     "name": "stdout",
     "output_type": "stream",
     "text": [
      "1985\n"
     ]
    }
   ],
   "execution_count": 8
  },
  {
   "metadata": {},
   "cell_type": "markdown",
   "source": [
    "## Schritt 4: Feature Engineering\n",
    "An dieser Stelle kann man sich überlegen, wie man die Daten noch verbessern kann, um das Verhältnis von wichtigen Informationen zu unwichtigen Informationen zu erhöhen. Dieser Datensatz ist schon recht kompakt und die Zeit heute begrenzt, weshalb wir diesen Schritt überspringen.\n",
    "\n",
    "Beispiele, bei denen bereits Feature Engineering betrieben wurde, sind der binäre Indikator für Bluthochdruck, da die absoluten Werte bereits interpretiert wurden.\n",
    "\n",
    "Ein weiteres, hier nicht zutreffendes Beispiel für Feature Engineering wäre, aus Gewicht und Größe den BMI zu berechnen, da bspw. 95 kg bei 1.60 Körpergröße ist im Sinne eines Risikofaktors anders zu bewerten als bei 1.95 m Körpergröße\n",
    "."
   ],
   "id": "b90106c9ecef1fcd"
  },
  {
   "metadata": {},
   "cell_type": "markdown",
   "source": [
    "## Schritt 5: Machine Learning\n",
    "\n",
    "Jetzt gehen wir zum Machine-Learning-Teil über. Wir importieren ein logistisches Regressionsmodell, das uns eine Vorhersage für das Todesevent (1 oder 0) liefern kann."
   ],
   "id": "fcdb8c4e59a7867e"
  },
  {
   "metadata": {
    "ExecuteTime": {
     "end_time": "2025-05-06T07:19:04.970335Z",
     "start_time": "2025-05-06T07:19:03.818816Z"
    }
   },
   "cell_type": "code",
   "source": [
    "# Wir importieren die benötigten Packages und Modelle\n",
    "from sklearn.linear_model import LogisticRegression\n",
    "from sklearn.model_selection import train_test_split\n",
    "\n",
    "# Wir laden das Modell und benennen es in \"lr\" um, um damit arbeiten zu können. Der solver und random_state sind technische, hier unwichtige Details.\n",
    "lr = LogisticRegression(solver='liblinear', random_state=42)\n",
    "\n",
    "# Unsere X-Features sind alle Werte, die wir zur Vorhersage nutzen wollen. Wir können auch weniger verwenden in dem wir einfach den Spaltennamen rauslöschen.\n",
    "\n",
    "X = df[['age', 'ejection_fraction', 'platelets', 'serum_creatinine', 'sex']]\n",
    "\n",
    "# Unser y-Wert ist das, was wir vorhersagen wollen\n",
    "y = df['DEATH_EVENT']\n",
    "\n",
    "# Wir teilen unsere Daten in 80 % Trainings- und 20 % Testdaten.\n",
    "X_train, X_test, y_train, y_test = train_test_split(X, y, random_state=0)"
   ],
   "id": "b1bad9b66e4c244a",
   "outputs": [],
   "execution_count": 9
  },
  {
   "metadata": {
    "ExecuteTime": {
     "end_time": "2025-04-30T07:46:22.519114Z",
     "start_time": "2025-04-30T07:46:22.508928Z"
    }
   },
   "cell_type": "code",
   "source": [
    "# Beim \"fit\" berechnet das Modell, welche Funktion sich am besten an die Trainingsdaten anpasst.\n",
    "lr.fit(X_train, y_train)"
   ],
   "id": "20cfada531aaf553",
   "outputs": [
    {
     "data": {
      "text/plain": [
       "LogisticRegression(random_state=42, solver='liblinear')"
      ],
      "text/html": [
       "<style>#sk-container-id-1 {\n",
       "  /* Definition of color scheme common for light and dark mode */\n",
       "  --sklearn-color-text: #000;\n",
       "  --sklearn-color-text-muted: #666;\n",
       "  --sklearn-color-line: gray;\n",
       "  /* Definition of color scheme for unfitted estimators */\n",
       "  --sklearn-color-unfitted-level-0: #fff5e6;\n",
       "  --sklearn-color-unfitted-level-1: #f6e4d2;\n",
       "  --sklearn-color-unfitted-level-2: #ffe0b3;\n",
       "  --sklearn-color-unfitted-level-3: chocolate;\n",
       "  /* Definition of color scheme for fitted estimators */\n",
       "  --sklearn-color-fitted-level-0: #f0f8ff;\n",
       "  --sklearn-color-fitted-level-1: #d4ebff;\n",
       "  --sklearn-color-fitted-level-2: #b3dbfd;\n",
       "  --sklearn-color-fitted-level-3: cornflowerblue;\n",
       "\n",
       "  /* Specific color for light theme */\n",
       "  --sklearn-color-text-on-default-background: var(--sg-text-color, var(--theme-code-foreground, var(--jp-content-font-color1, black)));\n",
       "  --sklearn-color-background: var(--sg-background-color, var(--theme-background, var(--jp-layout-color0, white)));\n",
       "  --sklearn-color-border-box: var(--sg-text-color, var(--theme-code-foreground, var(--jp-content-font-color1, black)));\n",
       "  --sklearn-color-icon: #696969;\n",
       "\n",
       "  @media (prefers-color-scheme: dark) {\n",
       "    /* Redefinition of color scheme for dark theme */\n",
       "    --sklearn-color-text-on-default-background: var(--sg-text-color, var(--theme-code-foreground, var(--jp-content-font-color1, white)));\n",
       "    --sklearn-color-background: var(--sg-background-color, var(--theme-background, var(--jp-layout-color0, #111)));\n",
       "    --sklearn-color-border-box: var(--sg-text-color, var(--theme-code-foreground, var(--jp-content-font-color1, white)));\n",
       "    --sklearn-color-icon: #878787;\n",
       "  }\n",
       "}\n",
       "\n",
       "#sk-container-id-1 {\n",
       "  color: var(--sklearn-color-text);\n",
       "}\n",
       "\n",
       "#sk-container-id-1 pre {\n",
       "  padding: 0;\n",
       "}\n",
       "\n",
       "#sk-container-id-1 input.sk-hidden--visually {\n",
       "  border: 0;\n",
       "  clip: rect(1px 1px 1px 1px);\n",
       "  clip: rect(1px, 1px, 1px, 1px);\n",
       "  height: 1px;\n",
       "  margin: -1px;\n",
       "  overflow: hidden;\n",
       "  padding: 0;\n",
       "  position: absolute;\n",
       "  width: 1px;\n",
       "}\n",
       "\n",
       "#sk-container-id-1 div.sk-dashed-wrapped {\n",
       "  border: 1px dashed var(--sklearn-color-line);\n",
       "  margin: 0 0.4em 0.5em 0.4em;\n",
       "  box-sizing: border-box;\n",
       "  padding-bottom: 0.4em;\n",
       "  background-color: var(--sklearn-color-background);\n",
       "}\n",
       "\n",
       "#sk-container-id-1 div.sk-container {\n",
       "  /* jupyter's `normalize.less` sets `[hidden] { display: none; }`\n",
       "     but bootstrap.min.css set `[hidden] { display: none !important; }`\n",
       "     so we also need the `!important` here to be able to override the\n",
       "     default hidden behavior on the sphinx rendered scikit-learn.org.\n",
       "     See: https://github.com/scikit-learn/scikit-learn/issues/21755 */\n",
       "  display: inline-block !important;\n",
       "  position: relative;\n",
       "}\n",
       "\n",
       "#sk-container-id-1 div.sk-text-repr-fallback {\n",
       "  display: none;\n",
       "}\n",
       "\n",
       "div.sk-parallel-item,\n",
       "div.sk-serial,\n",
       "div.sk-item {\n",
       "  /* draw centered vertical line to link estimators */\n",
       "  background-image: linear-gradient(var(--sklearn-color-text-on-default-background), var(--sklearn-color-text-on-default-background));\n",
       "  background-size: 2px 100%;\n",
       "  background-repeat: no-repeat;\n",
       "  background-position: center center;\n",
       "}\n",
       "\n",
       "/* Parallel-specific style estimator block */\n",
       "\n",
       "#sk-container-id-1 div.sk-parallel-item::after {\n",
       "  content: \"\";\n",
       "  width: 100%;\n",
       "  border-bottom: 2px solid var(--sklearn-color-text-on-default-background);\n",
       "  flex-grow: 1;\n",
       "}\n",
       "\n",
       "#sk-container-id-1 div.sk-parallel {\n",
       "  display: flex;\n",
       "  align-items: stretch;\n",
       "  justify-content: center;\n",
       "  background-color: var(--sklearn-color-background);\n",
       "  position: relative;\n",
       "}\n",
       "\n",
       "#sk-container-id-1 div.sk-parallel-item {\n",
       "  display: flex;\n",
       "  flex-direction: column;\n",
       "}\n",
       "\n",
       "#sk-container-id-1 div.sk-parallel-item:first-child::after {\n",
       "  align-self: flex-end;\n",
       "  width: 50%;\n",
       "}\n",
       "\n",
       "#sk-container-id-1 div.sk-parallel-item:last-child::after {\n",
       "  align-self: flex-start;\n",
       "  width: 50%;\n",
       "}\n",
       "\n",
       "#sk-container-id-1 div.sk-parallel-item:only-child::after {\n",
       "  width: 0;\n",
       "}\n",
       "\n",
       "/* Serial-specific style estimator block */\n",
       "\n",
       "#sk-container-id-1 div.sk-serial {\n",
       "  display: flex;\n",
       "  flex-direction: column;\n",
       "  align-items: center;\n",
       "  background-color: var(--sklearn-color-background);\n",
       "  padding-right: 1em;\n",
       "  padding-left: 1em;\n",
       "}\n",
       "\n",
       "\n",
       "/* Toggleable style: style used for estimator/Pipeline/ColumnTransformer box that is\n",
       "clickable and can be expanded/collapsed.\n",
       "- Pipeline and ColumnTransformer use this feature and define the default style\n",
       "- Estimators will overwrite some part of the style using the `sk-estimator` class\n",
       "*/\n",
       "\n",
       "/* Pipeline and ColumnTransformer style (default) */\n",
       "\n",
       "#sk-container-id-1 div.sk-toggleable {\n",
       "  /* Default theme specific background. It is overwritten whether we have a\n",
       "  specific estimator or a Pipeline/ColumnTransformer */\n",
       "  background-color: var(--sklearn-color-background);\n",
       "}\n",
       "\n",
       "/* Toggleable label */\n",
       "#sk-container-id-1 label.sk-toggleable__label {\n",
       "  cursor: pointer;\n",
       "  display: flex;\n",
       "  width: 100%;\n",
       "  margin-bottom: 0;\n",
       "  padding: 0.5em;\n",
       "  box-sizing: border-box;\n",
       "  text-align: center;\n",
       "  align-items: start;\n",
       "  justify-content: space-between;\n",
       "  gap: 0.5em;\n",
       "}\n",
       "\n",
       "#sk-container-id-1 label.sk-toggleable__label .caption {\n",
       "  font-size: 0.6rem;\n",
       "  font-weight: lighter;\n",
       "  color: var(--sklearn-color-text-muted);\n",
       "}\n",
       "\n",
       "#sk-container-id-1 label.sk-toggleable__label-arrow:before {\n",
       "  /* Arrow on the left of the label */\n",
       "  content: \"▸\";\n",
       "  float: left;\n",
       "  margin-right: 0.25em;\n",
       "  color: var(--sklearn-color-icon);\n",
       "}\n",
       "\n",
       "#sk-container-id-1 label.sk-toggleable__label-arrow:hover:before {\n",
       "  color: var(--sklearn-color-text);\n",
       "}\n",
       "\n",
       "/* Toggleable content - dropdown */\n",
       "\n",
       "#sk-container-id-1 div.sk-toggleable__content {\n",
       "  max-height: 0;\n",
       "  max-width: 0;\n",
       "  overflow: hidden;\n",
       "  text-align: left;\n",
       "  /* unfitted */\n",
       "  background-color: var(--sklearn-color-unfitted-level-0);\n",
       "}\n",
       "\n",
       "#sk-container-id-1 div.sk-toggleable__content.fitted {\n",
       "  /* fitted */\n",
       "  background-color: var(--sklearn-color-fitted-level-0);\n",
       "}\n",
       "\n",
       "#sk-container-id-1 div.sk-toggleable__content pre {\n",
       "  margin: 0.2em;\n",
       "  border-radius: 0.25em;\n",
       "  color: var(--sklearn-color-text);\n",
       "  /* unfitted */\n",
       "  background-color: var(--sklearn-color-unfitted-level-0);\n",
       "}\n",
       "\n",
       "#sk-container-id-1 div.sk-toggleable__content.fitted pre {\n",
       "  /* unfitted */\n",
       "  background-color: var(--sklearn-color-fitted-level-0);\n",
       "}\n",
       "\n",
       "#sk-container-id-1 input.sk-toggleable__control:checked~div.sk-toggleable__content {\n",
       "  /* Expand drop-down */\n",
       "  max-height: 200px;\n",
       "  max-width: 100%;\n",
       "  overflow: auto;\n",
       "}\n",
       "\n",
       "#sk-container-id-1 input.sk-toggleable__control:checked~label.sk-toggleable__label-arrow:before {\n",
       "  content: \"▾\";\n",
       "}\n",
       "\n",
       "/* Pipeline/ColumnTransformer-specific style */\n",
       "\n",
       "#sk-container-id-1 div.sk-label input.sk-toggleable__control:checked~label.sk-toggleable__label {\n",
       "  color: var(--sklearn-color-text);\n",
       "  background-color: var(--sklearn-color-unfitted-level-2);\n",
       "}\n",
       "\n",
       "#sk-container-id-1 div.sk-label.fitted input.sk-toggleable__control:checked~label.sk-toggleable__label {\n",
       "  background-color: var(--sklearn-color-fitted-level-2);\n",
       "}\n",
       "\n",
       "/* Estimator-specific style */\n",
       "\n",
       "/* Colorize estimator box */\n",
       "#sk-container-id-1 div.sk-estimator input.sk-toggleable__control:checked~label.sk-toggleable__label {\n",
       "  /* unfitted */\n",
       "  background-color: var(--sklearn-color-unfitted-level-2);\n",
       "}\n",
       "\n",
       "#sk-container-id-1 div.sk-estimator.fitted input.sk-toggleable__control:checked~label.sk-toggleable__label {\n",
       "  /* fitted */\n",
       "  background-color: var(--sklearn-color-fitted-level-2);\n",
       "}\n",
       "\n",
       "#sk-container-id-1 div.sk-label label.sk-toggleable__label,\n",
       "#sk-container-id-1 div.sk-label label {\n",
       "  /* The background is the default theme color */\n",
       "  color: var(--sklearn-color-text-on-default-background);\n",
       "}\n",
       "\n",
       "/* On hover, darken the color of the background */\n",
       "#sk-container-id-1 div.sk-label:hover label.sk-toggleable__label {\n",
       "  color: var(--sklearn-color-text);\n",
       "  background-color: var(--sklearn-color-unfitted-level-2);\n",
       "}\n",
       "\n",
       "/* Label box, darken color on hover, fitted */\n",
       "#sk-container-id-1 div.sk-label.fitted:hover label.sk-toggleable__label.fitted {\n",
       "  color: var(--sklearn-color-text);\n",
       "  background-color: var(--sklearn-color-fitted-level-2);\n",
       "}\n",
       "\n",
       "/* Estimator label */\n",
       "\n",
       "#sk-container-id-1 div.sk-label label {\n",
       "  font-family: monospace;\n",
       "  font-weight: bold;\n",
       "  display: inline-block;\n",
       "  line-height: 1.2em;\n",
       "}\n",
       "\n",
       "#sk-container-id-1 div.sk-label-container {\n",
       "  text-align: center;\n",
       "}\n",
       "\n",
       "/* Estimator-specific */\n",
       "#sk-container-id-1 div.sk-estimator {\n",
       "  font-family: monospace;\n",
       "  border: 1px dotted var(--sklearn-color-border-box);\n",
       "  border-radius: 0.25em;\n",
       "  box-sizing: border-box;\n",
       "  margin-bottom: 0.5em;\n",
       "  /* unfitted */\n",
       "  background-color: var(--sklearn-color-unfitted-level-0);\n",
       "}\n",
       "\n",
       "#sk-container-id-1 div.sk-estimator.fitted {\n",
       "  /* fitted */\n",
       "  background-color: var(--sklearn-color-fitted-level-0);\n",
       "}\n",
       "\n",
       "/* on hover */\n",
       "#sk-container-id-1 div.sk-estimator:hover {\n",
       "  /* unfitted */\n",
       "  background-color: var(--sklearn-color-unfitted-level-2);\n",
       "}\n",
       "\n",
       "#sk-container-id-1 div.sk-estimator.fitted:hover {\n",
       "  /* fitted */\n",
       "  background-color: var(--sklearn-color-fitted-level-2);\n",
       "}\n",
       "\n",
       "/* Specification for estimator info (e.g. \"i\" and \"?\") */\n",
       "\n",
       "/* Common style for \"i\" and \"?\" */\n",
       "\n",
       ".sk-estimator-doc-link,\n",
       "a:link.sk-estimator-doc-link,\n",
       "a:visited.sk-estimator-doc-link {\n",
       "  float: right;\n",
       "  font-size: smaller;\n",
       "  line-height: 1em;\n",
       "  font-family: monospace;\n",
       "  background-color: var(--sklearn-color-background);\n",
       "  border-radius: 1em;\n",
       "  height: 1em;\n",
       "  width: 1em;\n",
       "  text-decoration: none !important;\n",
       "  margin-left: 0.5em;\n",
       "  text-align: center;\n",
       "  /* unfitted */\n",
       "  border: var(--sklearn-color-unfitted-level-1) 1pt solid;\n",
       "  color: var(--sklearn-color-unfitted-level-1);\n",
       "}\n",
       "\n",
       ".sk-estimator-doc-link.fitted,\n",
       "a:link.sk-estimator-doc-link.fitted,\n",
       "a:visited.sk-estimator-doc-link.fitted {\n",
       "  /* fitted */\n",
       "  border: var(--sklearn-color-fitted-level-1) 1pt solid;\n",
       "  color: var(--sklearn-color-fitted-level-1);\n",
       "}\n",
       "\n",
       "/* On hover */\n",
       "div.sk-estimator:hover .sk-estimator-doc-link:hover,\n",
       ".sk-estimator-doc-link:hover,\n",
       "div.sk-label-container:hover .sk-estimator-doc-link:hover,\n",
       ".sk-estimator-doc-link:hover {\n",
       "  /* unfitted */\n",
       "  background-color: var(--sklearn-color-unfitted-level-3);\n",
       "  color: var(--sklearn-color-background);\n",
       "  text-decoration: none;\n",
       "}\n",
       "\n",
       "div.sk-estimator.fitted:hover .sk-estimator-doc-link.fitted:hover,\n",
       ".sk-estimator-doc-link.fitted:hover,\n",
       "div.sk-label-container:hover .sk-estimator-doc-link.fitted:hover,\n",
       ".sk-estimator-doc-link.fitted:hover {\n",
       "  /* fitted */\n",
       "  background-color: var(--sklearn-color-fitted-level-3);\n",
       "  color: var(--sklearn-color-background);\n",
       "  text-decoration: none;\n",
       "}\n",
       "\n",
       "/* Span, style for the box shown on hovering the info icon */\n",
       ".sk-estimator-doc-link span {\n",
       "  display: none;\n",
       "  z-index: 9999;\n",
       "  position: relative;\n",
       "  font-weight: normal;\n",
       "  right: .2ex;\n",
       "  padding: .5ex;\n",
       "  margin: .5ex;\n",
       "  width: min-content;\n",
       "  min-width: 20ex;\n",
       "  max-width: 50ex;\n",
       "  color: var(--sklearn-color-text);\n",
       "  box-shadow: 2pt 2pt 4pt #999;\n",
       "  /* unfitted */\n",
       "  background: var(--sklearn-color-unfitted-level-0);\n",
       "  border: .5pt solid var(--sklearn-color-unfitted-level-3);\n",
       "}\n",
       "\n",
       ".sk-estimator-doc-link.fitted span {\n",
       "  /* fitted */\n",
       "  background: var(--sklearn-color-fitted-level-0);\n",
       "  border: var(--sklearn-color-fitted-level-3);\n",
       "}\n",
       "\n",
       ".sk-estimator-doc-link:hover span {\n",
       "  display: block;\n",
       "}\n",
       "\n",
       "/* \"?\"-specific style due to the `<a>` HTML tag */\n",
       "\n",
       "#sk-container-id-1 a.estimator_doc_link {\n",
       "  float: right;\n",
       "  font-size: 1rem;\n",
       "  line-height: 1em;\n",
       "  font-family: monospace;\n",
       "  background-color: var(--sklearn-color-background);\n",
       "  border-radius: 1rem;\n",
       "  height: 1rem;\n",
       "  width: 1rem;\n",
       "  text-decoration: none;\n",
       "  /* unfitted */\n",
       "  color: var(--sklearn-color-unfitted-level-1);\n",
       "  border: var(--sklearn-color-unfitted-level-1) 1pt solid;\n",
       "}\n",
       "\n",
       "#sk-container-id-1 a.estimator_doc_link.fitted {\n",
       "  /* fitted */\n",
       "  border: var(--sklearn-color-fitted-level-1) 1pt solid;\n",
       "  color: var(--sklearn-color-fitted-level-1);\n",
       "}\n",
       "\n",
       "/* On hover */\n",
       "#sk-container-id-1 a.estimator_doc_link:hover {\n",
       "  /* unfitted */\n",
       "  background-color: var(--sklearn-color-unfitted-level-3);\n",
       "  color: var(--sklearn-color-background);\n",
       "  text-decoration: none;\n",
       "}\n",
       "\n",
       "#sk-container-id-1 a.estimator_doc_link.fitted:hover {\n",
       "  /* fitted */\n",
       "  background-color: var(--sklearn-color-fitted-level-3);\n",
       "}\n",
       "</style><div id=\"sk-container-id-1\" class=\"sk-top-container\"><div class=\"sk-text-repr-fallback\"><pre>LogisticRegression(random_state=42, solver=&#x27;liblinear&#x27;)</pre><b>In a Jupyter environment, please rerun this cell to show the HTML representation or trust the notebook. <br />On GitHub, the HTML representation is unable to render, please try loading this page with nbviewer.org.</b></div><div class=\"sk-container\" hidden><div class=\"sk-item\"><div class=\"sk-estimator fitted sk-toggleable\"><input class=\"sk-toggleable__control sk-hidden--visually\" id=\"sk-estimator-id-1\" type=\"checkbox\" checked><label for=\"sk-estimator-id-1\" class=\"sk-toggleable__label fitted sk-toggleable__label-arrow\"><div><div>LogisticRegression</div></div><div><a class=\"sk-estimator-doc-link fitted\" rel=\"noreferrer\" target=\"_blank\" href=\"https://scikit-learn.org/1.6/modules/generated/sklearn.linear_model.LogisticRegression.html\">?<span>Documentation for LogisticRegression</span></a><span class=\"sk-estimator-doc-link fitted\">i<span>Fitted</span></span></div></label><div class=\"sk-toggleable__content fitted\"><pre>LogisticRegression(random_state=42, solver=&#x27;liblinear&#x27;)</pre></div> </div></div></div></div>"
      ]
     },
     "execution_count": 31,
     "metadata": {},
     "output_type": "execute_result"
    }
   ],
   "execution_count": 31
  },
  {
   "metadata": {
    "ExecuteTime": {
     "end_time": "2025-04-30T07:46:23.935529Z",
     "start_time": "2025-04-30T07:46:23.882360Z"
    }
   },
   "cell_type": "code",
   "source": [
    "# Hier laden wir das Package, um uns die Confusion Matrix und alle Metriken anzeigen zu lassen\n",
    "from sklearn.metrics import ConfusionMatrixDisplay, confusion_matrix\n",
    "\n",
    "# Jetzt können wir schauen, wie gut das Modell auf den Testdaten performed. Dafür\n",
    "#\n",
    "# 1. Sagen wir DEATH_EVENT für die Testpatient:innen voraus\n",
    "y_pred = lr.predict(X_test)\n",
    "\n",
    "# 2. berechnen und plotten die Confusion Matrix und definieren daraus die TP, FP, FN, TN, wo jeweils T = True, F = False, P = Positive (Verstorben), N = Negative (nicht verstorben) ist.\n",
    "tn, fp, fn, tp = confusion_matrix(y_test, y_pred).ravel()\n",
    "ConfusionMatrixDisplay.from_estimator(lr, X_test, y_test, cmap='Blues')\n",
    "\n",
    "# 3. Berechnent mit diesen Werten alle gewollten Metriken.\n",
    "# accuracy (True Positives + True Negatives) / (#Reihen)\n",
    "print('Accuracy:', (tp + tn) / (tp + tn + fp + fn))\n",
    "print('Sensitivität/ Recall', (tp) / (tp + fn))\n",
    "print('Spezifität', (tn) / (tn + fp))\n",
    "\n",
    "# TODO: Ist das ein gutes Vorhersagemodell?"
   ],
   "id": "ca1f7af5c0ebc3df",
   "outputs": [
    {
     "name": "stdout",
     "output_type": "stream",
     "text": [
      "Accuracy: 0.782608695652174\n",
      "Sensitivität/ Recall 0.0\n",
      "Spezifität 1.0\n"
     ]
    },
    {
     "data": {
      "text/plain": [
       "<Figure size 640x480 with 2 Axes>"
      ],
      "image/png": "[encoded data removed]"
     },
     "metadata": {},
     "output_type": "display_data"
    }
   ],
   "execution_count": 32
  },
  {
   "metadata": {
    "ExecuteTime": {
     "end_time": "2025-04-30T07:46:25.236314Z",
     "start_time": "2025-04-30T07:46:25.234092Z"
    }
   },
   "cell_type": "code",
   "source": "",
   "id": "e9ec17beb7e87708",
   "outputs": [],
   "execution_count": null
  }
 ],
 "metadata": {
  "kernelspec": {
   "display_name": "Python 3",
   "language": "python",
   "name": "python3"
  },
  "language_info": {
   "codemirror_mode": {
    "name": "ipython",
    "version": 2
   },
   "file_extension": ".py",
   "mimetype": "text/x-python",
   "name": "python",
   "nbconvert_exporter": "python",
   "pygments_lexer": "ipython2",
   "version": "2.7.6"
  }
 },
 "nbformat": 4,
 "nbformat_minor": 5
}
